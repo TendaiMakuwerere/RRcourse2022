{
 "cells": [
  {
   "cell_type": "code",
   "execution_count": 27,
   "metadata": {},
   "outputs": [
    {
     "data": {
      "text/html": [
       "<div>\n",
       "<style scoped>\n",
       "    .dataframe tbody tr th:only-of-type {\n",
       "        vertical-align: middle;\n",
       "    }\n",
       "\n",
       "    .dataframe tbody tr th {\n",
       "        vertical-align: top;\n",
       "    }\n",
       "\n",
       "    .dataframe thead th {\n",
       "        text-align: right;\n",
       "    }\n",
       "</style>\n",
       "<table border=\"1\" class=\"dataframe\">\n",
       "  <thead>\n",
       "    <tr style=\"text-align: right;\">\n",
       "      <th></th>\n",
       "      <th>State</th>\n",
       "      <th>Abbreviation</th>\n",
       "    </tr>\n",
       "  </thead>\n",
       "  <tbody>\n",
       "    <tr>\n",
       "      <th>0</th>\n",
       "      <td>Alabama</td>\n",
       "      <td>AL</td>\n",
       "    </tr>\n",
       "    <tr>\n",
       "      <th>1</th>\n",
       "      <td>Alaska</td>\n",
       "      <td>AK</td>\n",
       "    </tr>\n",
       "    <tr>\n",
       "      <th>2</th>\n",
       "      <td>Arizona</td>\n",
       "      <td>AZ</td>\n",
       "    </tr>\n",
       "    <tr>\n",
       "      <th>3</th>\n",
       "      <td>Arkansas</td>\n",
       "      <td>AR</td>\n",
       "    </tr>\n",
       "    <tr>\n",
       "      <th>4</th>\n",
       "      <td>California</td>\n",
       "      <td>CA</td>\n",
       "    </tr>\n",
       "  </tbody>\n",
       "</table>\n",
       "</div>"
      ],
      "text/plain": [
       "        State Abbreviation\n",
       "0     Alabama           AL\n",
       "1      Alaska           AK\n",
       "2     Arizona           AZ\n",
       "3    Arkansas           AR\n",
       "4  California           CA"
      ]
     },
     "execution_count": 27,
     "metadata": {},
     "output_type": "execute_result"
    }
   ],
   "source": [
    "import pandas as pd\n",
    "\n",
    "# Loading data from csv\n",
    "\n",
    "US_states = pd.read_csv(\"C:/Users/Tendai/Documents/DS4/Reproducable research/RRcourse2022/US States.csv\")\n",
    "\n",
    "#viewing data\n",
    "\n",
    "US_states.head()"
   ]
  },
  {
   "cell_type": "code",
   "execution_count": 28,
   "metadata": {},
   "outputs": [],
   "source": [
    "#Creating an empty list \n",
    "\n",
    "UpperUS_States=[]\n",
    "\n",
    "#runing capitalization on every row \n",
    "for state in US_states['State']:\n",
    "    UpperUS_States.append(state.upper())\n",
    "#adding data to empty list\n",
    "USupper = pd.DataFrame(UpperUS_States,columns=['Upper_Case'])\n",
    "#loading data to csv \n",
    "USupper.to_csv(\"C:/Users/Tendai/Documents/DS4/Reproducable research/RRcourse2022/USstatesupper.csv\")\n",
    "\n"
   ]
  },
  {
   "cell_type": "code",
   "execution_count": 30,
   "metadata": {},
   "outputs": [
    {
     "name": "stdout",
     "output_type": "stream",
     "text": [
      "           USstateslower\n",
      "0                alabama\n",
      "1                 alaska\n",
      "2                arizona\n",
      "3               arkansas\n",
      "4             california\n",
      "5               colorado\n",
      "6            connecticut\n",
      "7               delaware\n",
      "8   district of columbia\n",
      "9                florida\n",
      "10               georgia\n",
      "11                hawaii\n",
      "12                 idaho\n",
      "13              illinois\n",
      "14               indiana\n",
      "15                  iowa\n",
      "16                kansas\n",
      "17              kentucky\n",
      "18             louisiana\n",
      "19                 maine\n",
      "20               montana\n",
      "21              nebraska\n",
      "22                nevada\n",
      "23         new hampshire\n",
      "24            new jersey\n",
      "25            new mexico\n",
      "26              new york\n",
      "27        north carolina\n",
      "28          north dakota\n",
      "29                  ohio\n",
      "30              oklahoma\n",
      "31                oregon\n",
      "32              maryland\n",
      "33         massachusetts\n",
      "34              michigan\n",
      "35             minnesota\n",
      "36           mississippi\n",
      "37              missouri\n",
      "38          pennsylvania\n",
      "39          rhode island\n",
      "40        south carolina\n",
      "41          south dakota\n",
      "42             tennessee\n",
      "43                 texas\n",
      "44                  utah\n",
      "45               vermont\n",
      "46              virginia\n",
      "47            washington\n",
      "48         west virginia\n",
      "49             wisconsin\n",
      "50               wyoming\n"
     ]
    }
   ],
   "source": [
    "#creating a list\n",
    "Lower_States = []\n",
    "\n",
    "#converting every state to lower \n",
    "\n",
    "for state in US_states['State']:\n",
    "    Lower_States.append(state.lower())\n",
    "\n",
    "#creating dataframe\n",
    "LowerUSstates = pd.DataFrame(Lower_States,columns=[\"USstateslower\"])\n",
    "#loading data to csv\n",
    "LowerUSstates.to_csv(\"C:/Users/Tendai/Documents/DS4/Reproducable research/RRcourse2022/USstateslower.csv\")\n",
    "print(LowerUSstates)\n",
    "\n"
   ]
  },
  {
   "cell_type": "code",
   "execution_count": null,
   "metadata": {},
   "outputs": [],
   "source": []
  }
 ],
 "metadata": {
  "kernelspec": {
   "display_name": "Python 3",
   "language": "python",
   "name": "python3"
  },
  "language_info": {
   "codemirror_mode": {
    "name": "ipython",
    "version": 3
   },
   "file_extension": ".py",
   "mimetype": "text/x-python",
   "name": "python",
   "nbconvert_exporter": "python",
   "pygments_lexer": "ipython3",
   "version": "3.8.3"
  }
 },
 "nbformat": 4,
 "nbformat_minor": 4
}
