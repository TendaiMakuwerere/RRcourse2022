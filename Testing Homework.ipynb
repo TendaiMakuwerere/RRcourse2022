{
 "cells": [
  {
   "cell_type": "code",
   "execution_count": 18,
   "metadata": {},
   "outputs": [],
   "source": [
    "import unittest\n",
    "import sys\n",
    "\n",
    "def convert(f,target='c'):\n",
    "    if target == 'c':\n",
    "        return (f-32)/1.8\n",
    "    if target == 'k':\n",
    "        return ((f-32)/1.8)+ 273.15\n",
    "    else:\n",
    "        raise Exception('wrong target')\n",
    "        \n",
    "\n",
    "\n",
    "class TestConvert(unittest.TestCase):\n",
    "    def test_divide_floats(self):\n",
    "        self.assertEqual(convert((70)), 21.1111111)\n",
    "    def test_convert(self):\n",
    "        self.assertEqual(convert(50),10)\n",
    "    def test_convert_90(self):\n",
    "        self.assertAlmostEqual(convert(90),32)\n",
    "        \n",
    "\n",
    "\n",
    "        \n",
    "\n",
    "        "
   ]
  },
  {
   "cell_type": "code",
   "execution_count": 4,
   "metadata": {},
   "outputs": [
    {
     "name": "stderr",
     "output_type": "stream",
     "text": [
      "test_divide_floats (__main__.TestDivide) ... ERROR\n",
      "\n",
      "======================================================================\n",
      "ERROR: test_divide_floats (__main__.TestDivide)\n",
      "----------------------------------------------------------------------\n",
      "Traceback (most recent call last):\n",
      "  File \"<ipython-input-2-2071025e85fb>\", line 15, in test_divide_floats\n",
      "    self.assertEqual(divide(5.0, 2.0), 2.5)\n",
      "NameError: name 'divide' is not defined\n",
      "\n",
      "----------------------------------------------------------------------\n",
      "Ran 1 test in 0.005s\n",
      "\n",
      "FAILED (errors=1)\n"
     ]
    }
   ],
   "source": [
    "\n",
    "import unittest\n",
    "import sys\n",
    "\n",
    "class Test_Tempreture(unittest.TestCase):\n",
    "    def test_tempreture_convesion(self):\n",
    "        self.assertEqaul(add((2,2),5))\n",
    "        \n",
    "    unittest.main(argv=[''],verbosity=2,exit=False)"
   ]
  },
  {
   "cell_type": "code",
   "execution_count": null,
   "metadata": {},
   "outputs": [],
   "source": []
  }
 ],
 "metadata": {
  "kernelspec": {
   "display_name": "Python 3",
   "language": "python",
   "name": "python3"
  },
  "language_info": {
   "codemirror_mode": {
    "name": "ipython",
    "version": 3
   },
   "file_extension": ".py",
   "mimetype": "text/x-python",
   "name": "python",
   "nbconvert_exporter": "python",
   "pygments_lexer": "ipython3",
   "version": "3.8.3"
  }
 },
 "nbformat": 4,
 "nbformat_minor": 4
}
