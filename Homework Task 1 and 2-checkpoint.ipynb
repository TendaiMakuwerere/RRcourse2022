{
 "cells": [
  {
   "cell_type": "code",
   "execution_count": null,
   "metadata": {},
   "outputs": [],
   "source": [
    "\n",
    "## TASK 1\n",
    "\n",
    "##takes a range of 0 to 100\n",
    "for i in range(100): \n",
    "    #If a number can be divided by 3 and by 5 and the reminder is zero then print FizzBuzz\n",
    "    if i%3 == 0 and i%5 == 0:\n",
    "        print(\"FizzBuzz\")\n",
    "    #if a number can be divided by 5 only and the reminder is zero then print Buzz\n",
    "    elif i%5 == 0:\n",
    "        print(\"Buzz\")\n",
    "    #if a number can be divided by 3 only and the reminder is zero then print Fizz\n",
    "    elif i%3 == 0:\n",
    "        print(\"Fizz\")\n",
    "     #If a number can not divided by 3 and by 5 and the reminder is not zero then print the number\n",
    "    else:\n",
    "        print(i)\n",
    "    "
   ]
  },
  {
   "cell_type": "code",
   "execution_count": 130,
   "metadata": {},
   "outputs": [
    {
     "name": "stdout",
     "output_type": "stream",
     "text": [
      "Please enter number:-7\n",
      "Enter a positive number:8\n"
     ]
    }
   ],
   "source": [
    "TASK 2\n",
    "\n",
    "#fibonacci number \n",
    "\n",
    "def fib(n):\n",
    "    #if n is equal to 0 or 1 the returned result should be n\n",
    "    if n in range(0,2):\n",
    "        return n\n",
    "    #the calculation of fib is the the sum of two numbers from n-1 and n-2\n",
    "    return fib(n-1) + fib(n-2)\n",
    "\n",
    "\n",
    "number = int(input('Please enter number:'))\n",
    "#validating if input is valid \n",
    "if number < 0:\n",
    "    print('Number must be a positive number:')))\n",
    "elif number > 0:\n",
    "    n = number\n",
    "    for i in range(0,n):\n",
    "        #Checking if the number is smaller than the input and print the fibbonaci series less than number. \n",
    "        if fib(i) < n:\n",
    "            print(fib(i))\n"
   ]
  },
  {
   "cell_type": "code",
   "execution_count": 131,
   "metadata": {},
   "outputs": [
    {
     "name": "stdout",
     "output_type": "stream",
     "text": [
      "Enter value that need to be reversed:098756\n"
     ]
    },
    {
     "data": {
      "text/plain": [
       "'657890 '"
      ]
     },
     "execution_count": 131,
     "metadata": {},
     "output_type": "execute_result"
    }
   ],
   "source": [
    "#Reverse number \n",
    "\n",
    "def reverse_number(n):\n",
    "    # creating an empty string n1\n",
    "    n1 = \" \"\n",
    "    for i in n:\n",
    "    #the above loop provides a element which will be put at the fist variable of the array n1\n",
    "        n1 = i + n1\n",
    "    return n1\n",
    "\n",
    "# User will be required to enter value which needs to be verified.\n",
    "value = input('Enter value that need to be reversed:')\n",
    "\n",
    "#We are callng the function reverse_number using input value\n",
    "reverse_number(value)\n",
    "\n",
    "\n",
    "        \n",
    "\n",
    "\n",
    "    \n",
    "    \n",
    "    \n",
    "   "
   ]
  },
  {
   "cell_type": "code",
   "execution_count": null,
   "metadata": {},
   "outputs": [],
   "source": []
  }
 ],
 "metadata": {
  "kernelspec": {
   "display_name": "Python 3",
   "language": "python",
   "name": "python3"
  },
  "language_info": {
   "codemirror_mode": {
    "name": "ipython",
    "version": 3
   },
   "file_extension": ".py",
   "mimetype": "text/x-python",
   "name": "python",
   "nbconvert_exporter": "python",
   "pygments_lexer": "ipython3",
   "version": "3.8.3"
  }
 },
 "nbformat": 4,
 "nbformat_minor": 4
}
